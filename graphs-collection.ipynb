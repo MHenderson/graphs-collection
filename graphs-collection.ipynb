{
 "metadata": {
  "name": ""
 },
 "nbformat": 3,
 "nbformat_minor": 0,
 "worksheets": [
  {
   "cells": [
    {
     "cell_type": "code",
     "collapsed": false,
     "input": [
      "import networkx as nx"
     ],
     "language": "python",
     "metadata": {},
     "outputs": [],
     "prompt_number": 1
    },
    {
     "cell_type": "code",
     "collapsed": false,
     "input": [
      "def write_all(graph, name, path):\n",
      "    #nx.write_adjlist\n",
      "    #nx.write_dot(petersen, petersen_folder + 'petersen.dot')\n",
      "    #nx.write_edgelist\n",
      "    nx.write_gexf(graph, path + name + '.gexf')\n",
      "    nx.write_gml(graph, path + name + '.gml')\n",
      "    #nx.write_gpickle\n",
      "    nx.write_graphml(graph, path + name + '.graphml')\n",
      "    #nx.write_multiline_adjlist\n",
      "    #nx.write_pajek\n",
      "    #nx.write_shp\n",
      "    #nx.write_weighted_edgelist\n",
      "    #nx.write_yaml"
     ],
     "language": "python",
     "metadata": {},
     "outputs": [],
     "prompt_number": 2
    },
    {
     "cell_type": "code",
     "collapsed": false,
     "input": [
      "project_folder = \"./\"\n",
      "\n",
      "petersen_folder = project_folder + '/Classic/Petersen/'\n",
      "petersen = nx.petersen_graph()\n",
      "\n",
      "tutte_folder = project_folder + '/Classic/Tutte/'\n",
      "tutte = nx.tutte_graph()"
     ],
     "language": "python",
     "metadata": {},
     "outputs": [],
     "prompt_number": 3
    },
    {
     "cell_type": "code",
     "collapsed": false,
     "input": [
      "write_all(petersen, 'petersen', petersen_folder)\n",
      "write_all(tutte, 'tutte', tutte_folder)"
     ],
     "language": "python",
     "metadata": {},
     "outputs": [],
     "prompt_number": 4
    }
   ],
   "metadata": {}
  }
 ]
}