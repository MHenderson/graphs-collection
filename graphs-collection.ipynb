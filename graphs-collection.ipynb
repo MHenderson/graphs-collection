{
 "metadata": {
  "name": ""
 },
 "nbformat": 3,
 "nbformat_minor": 0,
 "worksheets": [
  {
   "cells": [
    {
     "cell_type": "code",
     "collapsed": false,
     "input": [
      "import networkx as nx"
     ],
     "language": "python",
     "metadata": {},
     "outputs": [],
     "prompt_number": 1
    },
    {
     "cell_type": "code",
     "collapsed": false,
     "input": [
      "def write_all(graph, name, path):\n",
      "    #nx.write_adjlist\n",
      "    #nx.write_dot(graph, path + name + '.dot')\n",
      "    #nx.write_edgelist\n",
      "    nx.write_gexf(graph, path + name + '.gexf')\n",
      "    nx.write_gml(graph, path + name + '.gml')\n",
      "    #nx.write_gpickle\n",
      "    nx.write_graphml(graph, path + name + '.graphml')\n",
      "    #nx.write_multiline_adjlist\n",
      "    nx.write_pajek(graph, path + name + '.net')\n",
      "    #nx.write_shp\n",
      "    #nx.write_weighted_edgelist\n",
      "    #nx.write_yaml"
     ],
     "language": "python",
     "metadata": {},
     "outputs": [],
     "prompt_number": 2
    },
    {
     "cell_type": "code",
     "collapsed": false,
     "input": [
      "project_folder = \"./\"\n",
      "\n",
      "petersen_folder = project_folder + 'Classic/Petersen/'\n",
      "petersen = nx.petersen_graph()\n",
      "\n",
      "tutte_folder = project_folder + 'Classic/Tutte/'\n",
      "tutte = nx.tutte_graph()\n",
      "\n",
      "heawood_folder = project_folder + 'Classic/Heawood/'\n",
      "heawood_graph = nx.heawood_graph()\n",
      "\n",
      "chvatal_folder = project_folder + 'Classic/Chvatal/'\n",
      "chvatal_graph = nx.chvatal_graph()\n",
      "\n",
      "frucht_folder = project_folder + 'Classic/Frucht/'\n",
      "frucht_graph = nx.frucht_graph()\n",
      "\n",
      "desargues_folder = project_folder + 'Classic/Desargues/'\n",
      "desargues_graph = nx.desargues_graph()\n",
      "\n",
      "tetrahedral_folder = project_folder + 'Platonic/Tetrahedral/'\n",
      "tetrahedral_graph = nx.tetrahedral_graph()\n",
      "\n",
      "octahedral_folder = project_folder + 'Platonic/Octahedral/'\n",
      "octahedral_graph = nx.octahedral_graph()\n",
      "\n",
      "icosahedral_folder = project_folder + 'Platonic/Icosahedral/'\n",
      "icosahedral_graph = nx.icosahedral_graph()"
     ],
     "language": "python",
     "metadata": {},
     "outputs": [],
     "prompt_number": 3
    },
    {
     "cell_type": "code",
     "collapsed": false,
     "input": [
      "write_all(petersen, 'petersen', petersen_folder)\n",
      "write_all(tutte, 'tutte', tutte_folder)\n",
      "write_all(heawood_graph, 'heawood', heawood_folder)\n",
      "write_all(chvatal_graph, 'chvatal', chvatal_folder)\n",
      "write_all(frucht_graph, 'frucht', frucht_folder)\n",
      "write_all(desargues_graph, 'desargues', desargues_folder)\n",
      "write_all(tetrahedral_graph, 'tetrahedral', tetrahedral_folder)\n",
      "write_all(octahedral_graph, 'octahedral', octahedral_folder)\n",
      "write_all(icosahedral_graph, 'icosahedral', icosahedral_folder)"
     ],
     "language": "python",
     "metadata": {},
     "outputs": [],
     "prompt_number": 4
    }
   ],
   "metadata": {}
  }
 ]
}